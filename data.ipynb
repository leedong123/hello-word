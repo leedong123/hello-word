{
 "cells": [
  {
   "cell_type": "code",
   "execution_count": 1,
   "metadata": {},
   "outputs": [],
   "source": [
    "import pandas as pd\n",
    "import re\n",
    "import matplotlib.pyplot as plt\n",
    "import numpy as np\n",
    "import gc\n",
    "plt.rc('font', family='simsun', size=12)"
   ]
  },
  {
   "cell_type": "code",
   "execution_count": 2,
   "metadata": {},
   "outputs": [],
   "source": [
    "u_title = pd.read_excel('title.xlsx',sheet_name='tb_rp_mk_crso_agent_author_day')\n",
    "user = pd.read_table('users.info',sep='|',header=None,iterator=True)"
   ]
  },
  {
   "cell_type": "code",
   "execution_count": 3,
   "metadata": {},
   "outputs": [
    {
     "data": {
      "text/html": [
       "<div>\n",
       "<style scoped>\n",
       "    .dataframe tbody tr th:only-of-type {\n",
       "        vertical-align: middle;\n",
       "    }\n",
       "\n",
       "    .dataframe tbody tr th {\n",
       "        vertical-align: top;\n",
       "    }\n",
       "\n",
       "    .dataframe thead th {\n",
       "        text-align: right;\n",
       "    }\n",
       "</style>\n",
       "<table border=\"1\" class=\"dataframe\">\n",
       "  <thead>\n",
       "    <tr style=\"text-align: right;\">\n",
       "      <th></th>\n",
       "      <th>csaprp.tb_rp_mk_crso_agent_author_day</th>\n",
       "      <th>Unnamed: 1</th>\n",
       "      <th>众包会员资格监控日报表</th>\n",
       "    </tr>\n",
       "  </thead>\n",
       "  <tbody>\n",
       "    <tr>\n",
       "      <th>0</th>\n",
       "      <td>statis_year</td>\n",
       "      <td>varchar(4)</td>\n",
       "      <td>统计年份</td>\n",
       "    </tr>\n",
       "    <tr>\n",
       "      <th>1</th>\n",
       "      <td>statis_date</td>\n",
       "      <td>varchar(8)</td>\n",
       "      <td>统计日期</td>\n",
       "    </tr>\n",
       "    <tr>\n",
       "      <th>2</th>\n",
       "      <td>agent_num</td>\n",
       "      <td>varchar(20)</td>\n",
       "      <td>会员工号</td>\n",
       "    </tr>\n",
       "    <tr>\n",
       "      <th>3</th>\n",
       "      <td>acount_name</td>\n",
       "      <td>varchar(150)</td>\n",
       "      <td>会员姓名</td>\n",
       "    </tr>\n",
       "    <tr>\n",
       "      <th>4</th>\n",
       "      <td>star_level</td>\n",
       "      <td>varchar(20)</td>\n",
       "      <td>会员星级</td>\n",
       "    </tr>\n",
       "    <tr>\n",
       "      <th>5</th>\n",
       "      <td>channel_name</td>\n",
       "      <td>varchar(600)</td>\n",
       "      <td>所属单位</td>\n",
       "    </tr>\n",
       "    <tr>\n",
       "      <th>6</th>\n",
       "      <td>channe_lid</td>\n",
       "      <td>varchar(40)</td>\n",
       "      <td>所属单位id</td>\n",
       "    </tr>\n",
       "    <tr>\n",
       "      <th>7</th>\n",
       "      <td>business_code</td>\n",
       "      <td>varchar(50)</td>\n",
       "      <td>项目编号</td>\n",
       "    </tr>\n",
       "    <tr>\n",
       "      <th>8</th>\n",
       "      <td>business_name</td>\n",
       "      <td>varchar(300)</td>\n",
       "      <td>项目名称</td>\n",
       "    </tr>\n",
       "    <tr>\n",
       "      <th>9</th>\n",
       "      <td>prov_code</td>\n",
       "      <td>varchar(5)</td>\n",
       "      <td>省份</td>\n",
       "    </tr>\n",
       "    <tr>\n",
       "      <th>10</th>\n",
       "      <td>prov_name</td>\n",
       "      <td>varchar(20)</td>\n",
       "      <td>省份名称</td>\n",
       "    </tr>\n",
       "    <tr>\n",
       "      <th>11</th>\n",
       "      <td>bonus</td>\n",
       "      <td>decimal(12,2)</td>\n",
       "      <td>项目单价</td>\n",
       "    </tr>\n",
       "    <tr>\n",
       "      <th>12</th>\n",
       "      <td>callout_number</td>\n",
       "      <td>int</td>\n",
       "      <td>总拨打量</td>\n",
       "    </tr>\n",
       "    <tr>\n",
       "      <th>13</th>\n",
       "      <td>connected_number</td>\n",
       "      <td>int</td>\n",
       "      <td>总接通量</td>\n",
       "    </tr>\n",
       "    <tr>\n",
       "      <th>14</th>\n",
       "      <td>online_succnum</td>\n",
       "      <td>int</td>\n",
       "      <td>在线办理数</td>\n",
       "    </tr>\n",
       "    <tr>\n",
       "      <th>15</th>\n",
       "      <td>offline_succnum</td>\n",
       "      <td>int</td>\n",
       "      <td>线下办理数</td>\n",
       "    </tr>\n",
       "    <tr>\n",
       "      <th>16</th>\n",
       "      <td>succ_rate</td>\n",
       "      <td>decimal(12,4)</td>\n",
       "      <td>办理率</td>\n",
       "    </tr>\n",
       "    <tr>\n",
       "      <th>17</th>\n",
       "      <td>avg_call_length</td>\n",
       "      <td>decimal(12,2)</td>\n",
       "      <td>平均通话时长(s)</td>\n",
       "    </tr>\n",
       "    <tr>\n",
       "      <th>18</th>\n",
       "      <td>checkin_length</td>\n",
       "      <td>int</td>\n",
       "      <td>签入总时长（s)</td>\n",
       "    </tr>\n",
       "    <tr>\n",
       "      <th>19</th>\n",
       "      <td>call_length</td>\n",
       "      <td>int</td>\n",
       "      <td>通话总时长(s)</td>\n",
       "    </tr>\n",
       "    <tr>\n",
       "      <th>20</th>\n",
       "      <td>settle_length</td>\n",
       "      <td>int</td>\n",
       "      <td>整理总时长(s)</td>\n",
       "    </tr>\n",
       "    <tr>\n",
       "      <th>21</th>\n",
       "      <td>free_length</td>\n",
       "      <td>int</td>\n",
       "      <td>空闲总时长（s）</td>\n",
       "    </tr>\n",
       "    <tr>\n",
       "      <th>22</th>\n",
       "      <td>satisfy_num</td>\n",
       "      <td>int</td>\n",
       "      <td>满意量</td>\n",
       "    </tr>\n",
       "    <tr>\n",
       "      <th>23</th>\n",
       "      <td>unsatisfy_num</td>\n",
       "      <td>int</td>\n",
       "      <td>不满意量</td>\n",
       "    </tr>\n",
       "    <tr>\n",
       "      <th>24</th>\n",
       "      <td>satisfy_rate</td>\n",
       "      <td>decimal(12,4)</td>\n",
       "      <td>满意度</td>\n",
       "    </tr>\n",
       "    <tr>\n",
       "      <th>25</th>\n",
       "      <td>request_time</td>\n",
       "      <td>varchar(30)</td>\n",
       "      <td>资格获取时间</td>\n",
       "    </tr>\n",
       "    <tr>\n",
       "      <th>26</th>\n",
       "      <td>valid_time</td>\n",
       "      <td>varchar(30)</td>\n",
       "      <td>资格结束时间</td>\n",
       "    </tr>\n",
       "    <tr>\n",
       "      <th>27</th>\n",
       "      <td>deliver_comp_id</td>\n",
       "      <td>varchar(40)</td>\n",
       "      <td>发包方编号</td>\n",
       "    </tr>\n",
       "    <tr>\n",
       "      <th>28</th>\n",
       "      <td>deliver_comp_name</td>\n",
       "      <td>varchar(600)</td>\n",
       "      <td>发包方公司</td>\n",
       "    </tr>\n",
       "    <tr>\n",
       "      <th>29</th>\n",
       "      <td>ng_staff_id</td>\n",
       "      <td>varchar(50)</td>\n",
       "      <td>新一代客服业务工号</td>\n",
       "    </tr>\n",
       "    <tr>\n",
       "      <th>30</th>\n",
       "      <td>operation_type</td>\n",
       "      <td>varchar(150)</td>\n",
       "      <td>一级分类名称</td>\n",
       "    </tr>\n",
       "    <tr>\n",
       "      <th>31</th>\n",
       "      <td>sub_operation_type</td>\n",
       "      <td>varchar(150)</td>\n",
       "      <td>二级分类名称</td>\n",
       "    </tr>\n",
       "    <tr>\n",
       "      <th>32</th>\n",
       "      <td>three_operation_type</td>\n",
       "      <td>varchar(150)</td>\n",
       "      <td>三级分类名称</td>\n",
       "    </tr>\n",
       "    <tr>\n",
       "      <th>33</th>\n",
       "      <td>platform</td>\n",
       "      <td>int</td>\n",
       "      <td>生产模式(即服务模式：0-平台统一支撑，1-平台能力封装服务)</td>\n",
       "    </tr>\n",
       "    <tr>\n",
       "      <th>34</th>\n",
       "      <td>platform_name</td>\n",
       "      <td>varchar(40)</td>\n",
       "      <td>生产模式名称</td>\n",
       "    </tr>\n",
       "    <tr>\n",
       "      <th>35</th>\n",
       "      <td>prefecture_id</td>\n",
       "      <td>varchar(40)</td>\n",
       "      <td>外呼服务专区编码</td>\n",
       "    </tr>\n",
       "    <tr>\n",
       "      <th>36</th>\n",
       "      <td>prefecture_name</td>\n",
       "      <td>varchar(150)</td>\n",
       "      <td>外呼服务专区名称</td>\n",
       "    </tr>\n",
       "  </tbody>\n",
       "</table>\n",
       "</div>"
      ],
      "text/plain": [
       "   csaprp.tb_rp_mk_crso_agent_author_day     Unnamed: 1  \\\n",
       "0                            statis_year     varchar(4)   \n",
       "1                            statis_date     varchar(8)   \n",
       "2                              agent_num    varchar(20)   \n",
       "3                            acount_name   varchar(150)   \n",
       "4                             star_level    varchar(20)   \n",
       "5                           channel_name   varchar(600)   \n",
       "6                             channe_lid    varchar(40)   \n",
       "7                          business_code    varchar(50)   \n",
       "8                          business_name   varchar(300)   \n",
       "9                              prov_code     varchar(5)   \n",
       "10                             prov_name    varchar(20)   \n",
       "11                                 bonus  decimal(12,2)   \n",
       "12                        callout_number            int   \n",
       "13                      connected_number            int   \n",
       "14                        online_succnum            int   \n",
       "15                       offline_succnum            int   \n",
       "16                             succ_rate  decimal(12,4)   \n",
       "17                       avg_call_length  decimal(12,2)   \n",
       "18                        checkin_length            int   \n",
       "19                           call_length            int   \n",
       "20                         settle_length            int   \n",
       "21                           free_length            int   \n",
       "22                           satisfy_num            int   \n",
       "23                         unsatisfy_num            int   \n",
       "24                          satisfy_rate  decimal(12,4)   \n",
       "25                          request_time    varchar(30)   \n",
       "26                            valid_time    varchar(30)   \n",
       "27                       deliver_comp_id    varchar(40)   \n",
       "28                     deliver_comp_name   varchar(600)   \n",
       "29                           ng_staff_id    varchar(50)   \n",
       "30                        operation_type   varchar(150)   \n",
       "31                    sub_operation_type   varchar(150)   \n",
       "32                  three_operation_type   varchar(150)   \n",
       "33                              platform            int   \n",
       "34                         platform_name    varchar(40)   \n",
       "35                         prefecture_id    varchar(40)   \n",
       "36                       prefecture_name   varchar(150)   \n",
       "\n",
       "                        众包会员资格监控日报表  \n",
       "0                              统计年份  \n",
       "1                              统计日期  \n",
       "2                              会员工号  \n",
       "3                              会员姓名  \n",
       "4                              会员星级  \n",
       "5                              所属单位  \n",
       "6                            所属单位id  \n",
       "7                              项目编号  \n",
       "8                              项目名称  \n",
       "9                                省份  \n",
       "10                             省份名称  \n",
       "11                             项目单价  \n",
       "12                             总拨打量  \n",
       "13                             总接通量  \n",
       "14                            在线办理数  \n",
       "15                            线下办理数  \n",
       "16                              办理率  \n",
       "17                        平均通话时长(s)  \n",
       "18                         签入总时长（s)  \n",
       "19                         通话总时长(s)  \n",
       "20                         整理总时长(s)  \n",
       "21                         空闲总时长（s）  \n",
       "22                              满意量  \n",
       "23                             不满意量  \n",
       "24                              满意度  \n",
       "25                           资格获取时间  \n",
       "26                           资格结束时间  \n",
       "27                            发包方编号  \n",
       "28                            发包方公司  \n",
       "29                        新一代客服业务工号  \n",
       "30                           一级分类名称  \n",
       "31                           二级分类名称  \n",
       "32                           三级分类名称  \n",
       "33  生产模式(即服务模式：0-平台统一支撑，1-平台能力封装服务)  \n",
       "34                           生产模式名称  \n",
       "35                         外呼服务专区编码  \n",
       "36                         外呼服务专区名称  "
      ]
     },
     "execution_count": 3,
     "metadata": {},
     "output_type": "execute_result"
    }
   ],
   "source": [
    "u_title"
   ]
  },
  {
   "cell_type": "markdown",
   "metadata": {},
   "source": [
    "# 去除一部分没用的列"
   ]
  },
  {
   "cell_type": "code",
   "execution_count": 4,
   "metadata": {
    "scrolled": true
   },
   "outputs": [
    {
     "name": "stdout",
     "output_type": "stream",
     "text": [
      "['统计年份', '统计日期', '会员工号', '会员姓名', '会员星级', '项目名称', '省份名称', '项目单价', '总拨打量', '总接通量', '在线办理数', '线下办理数', '办理率', '平均通话时长(s)', '签入总时长（s)', '通话总时长(s)', '整理总时长(s)', '空闲总时长（s）', '资格获取时间', '资格结束时间', '一级分类名称', '二级分类名称', '三级分类名称']\n"
     ]
    }
   ],
   "source": [
    "title = list(u_title.loc[:,'众包会员资格监控日报表'])\n",
    "s_title = []\n",
    "for i in [0,1,2,3,4,8,10,11,12,13,14,15,16,17,18,19,20,21,25,26,30,31,32]:\n",
    "    s_title.append(title[i])\n",
    "print(s_title)"
   ]
  },
  {
   "cell_type": "code",
   "execution_count": 5,
   "metadata": {},
   "outputs": [
    {
     "name": "stderr",
     "output_type": "stream",
     "text": [
      "/home/lidongdong/anaconda3/lib/python3.6/site-packages/IPython/core/interactiveshell.py:2662: DtypeWarning: Columns (29,30,31,32) have mixed types. Specify dtype option on import or set low_memory=False.\n",
      "  raw_cell, store_history, silent, shell_futures)\n",
      "/home/lidongdong/anaconda3/lib/python3.6/site-packages/IPython/core/interactiveshell.py:2662: DtypeWarning: Columns (30,31,32) have mixed types. Specify dtype option on import or set low_memory=False.\n",
      "  raw_cell, store_history, silent, shell_futures)\n",
      "/home/lidongdong/anaconda3/lib/python3.6/site-packages/IPython/core/interactiveshell.py:2662: DtypeWarning: Columns (34) have mixed types. Specify dtype option on import or set low_memory=False.\n",
      "  raw_cell, store_history, silent, shell_futures)\n",
      "/home/lidongdong/anaconda3/lib/python3.6/site-packages/IPython/core/interactiveshell.py:2662: DtypeWarning: Columns (36) have mixed types. Specify dtype option on import or set low_memory=False.\n",
      "  raw_cell, store_history, silent, shell_futures)\n"
     ]
    },
    {
     "name": "stdout",
     "output_type": "stream",
     "text": [
      "done\n"
     ]
    }
   ],
   "source": [
    "count = pd.DataFrame()\n",
    "loop = True\n",
    "while loop:\n",
    "    try:\n",
    "        d = user.get_chunk(500000)\n",
    "        d.columns = title\n",
    "        #d.fillna('',inplace=True)\n",
    "        d = d.loc[d['办理率']!=0]\n",
    "        count = count.append(d[s_title],ignore_index=True)\n",
    "        del d\n",
    "        gc.collect()\n",
    "    except StopIteration:\n",
    "        print('done')\n",
    "        loop = False    "
   ]
  },
  {
   "cell_type": "code",
   "execution_count": null,
   "metadata": {},
   "outputs": [],
   "source": []
  },
  {
   "cell_type": "markdown",
   "metadata": {},
   "source": [
    "# 办理率有一部分计算错误，只取办理率小于等于1的情况"
   ]
  },
  {
   "cell_type": "code",
   "execution_count": 6,
   "metadata": {},
   "outputs": [],
   "source": [
    "count['new_办理率'] = (count['在线办理数']+count['线下办理数'])/count['总接通量']"
   ]
  },
  {
   "cell_type": "code",
   "execution_count": 7,
   "metadata": {},
   "outputs": [],
   "source": [
    "new_count = count[count['new_办理率']<=1]"
   ]
  },
  {
   "cell_type": "code",
   "execution_count": 8,
   "metadata": {},
   "outputs": [
    {
     "data": {
      "text/plain": [
       "(2581461, 2563598)"
      ]
     },
     "execution_count": 8,
     "metadata": {},
     "output_type": "execute_result"
    }
   ],
   "source": [
    "count.shape[0],new_count.shape[0]"
   ]
  },
  {
   "cell_type": "code",
   "execution_count": 19,
   "metadata": {},
   "outputs": [],
   "source": [
    "def get_s(df):\n",
    "    res = pd.Series()\n",
    "    res['new_办理率'] = df['new_办理率'].mean()\n",
    "    return res\n",
    "def get_s2(df):\n",
    "    res = pd.Series()\n",
    "    res['办理率'] = df['办理率'].mean()\n",
    "    return res\n",
    "def get_m(df):\n",
    "    res = pd.Series()\n",
    "    res['办理率'] = df['new_办理率'].mean()\n",
    "    res['星级'] = df['会员星级'].values[0]\n",
    "    res['总接通量'] = df['总接通量'].sum()\n",
    "    res['平均通话时长'] = df['平均通话时长(s)'].mean()\n",
    "    res['总通话时长'] = df['通话总时长(s)'].sum()\n",
    "    return res"
   ]
  },
  {
   "cell_type": "markdown",
   "metadata": {},
   "source": [
    "# 项目二级分类名称"
   ]
  },
  {
   "cell_type": "code",
   "execution_count": 10,
   "metadata": {},
   "outputs": [],
   "source": [
    "second_p = new_count.groupby('二级分类名称').apply(get_s)"
   ]
  },
  {
   "cell_type": "code",
   "execution_count": 11,
   "metadata": {},
   "outputs": [
    {
     "data": {
      "text/html": [
       "<div>\n",
       "<style scoped>\n",
       "    .dataframe tbody tr th:only-of-type {\n",
       "        vertical-align: middle;\n",
       "    }\n",
       "\n",
       "    .dataframe tbody tr th {\n",
       "        vertical-align: top;\n",
       "    }\n",
       "\n",
       "    .dataframe thead th {\n",
       "        text-align: right;\n",
       "    }\n",
       "</style>\n",
       "<table border=\"1\" class=\"dataframe\">\n",
       "  <thead>\n",
       "    <tr style=\"text-align: right;\">\n",
       "      <th></th>\n",
       "      <th>new_办理率</th>\n",
       "    </tr>\n",
       "    <tr>\n",
       "      <th>二级分类名称</th>\n",
       "      <th></th>\n",
       "    </tr>\n",
       "  </thead>\n",
       "  <tbody>\n",
       "    <tr>\n",
       "      <th>体验类</th>\n",
       "      <td>0.193194</td>\n",
       "    </tr>\n",
       "    <tr>\n",
       "      <th>增值业务类</th>\n",
       "      <td>0.117757</td>\n",
       "    </tr>\n",
       "    <tr>\n",
       "      <th>套餐类</th>\n",
       "      <td>0.078850</td>\n",
       "    </tr>\n",
       "    <tr>\n",
       "      <th>宽带类</th>\n",
       "      <td>0.147244</td>\n",
       "    </tr>\n",
       "    <tr>\n",
       "      <th>承诺低消类</th>\n",
       "      <td>0.107574</td>\n",
       "    </tr>\n",
       "    <tr>\n",
       "      <th>流量类</th>\n",
       "      <td>0.098041</td>\n",
       "    </tr>\n",
       "    <tr>\n",
       "      <th>调研类</th>\n",
       "      <td>0.555534</td>\n",
       "    </tr>\n",
       "    <tr>\n",
       "      <th>通知类</th>\n",
       "      <td>0.588513</td>\n",
       "    </tr>\n",
       "  </tbody>\n",
       "</table>\n",
       "</div>"
      ],
      "text/plain": [
       "         new_办理率\n",
       "二级分类名称          \n",
       "体验类     0.193194\n",
       "增值业务类   0.117757\n",
       "套餐类     0.078850\n",
       "宽带类     0.147244\n",
       "承诺低消类   0.107574\n",
       "流量类     0.098041\n",
       "调研类     0.555534\n",
       "通知类     0.588513"
      ]
     },
     "execution_count": 11,
     "metadata": {},
     "output_type": "execute_result"
    }
   ],
   "source": [
    "second_p"
   ]
  },
  {
   "cell_type": "code",
   "execution_count": 12,
   "metadata": {},
   "outputs": [
    {
     "data": {
      "text/plain": [
       "<matplotlib.axes._subplots.AxesSubplot at 0x7f063f4fc470>"
      ]
     },
     "execution_count": 12,
     "metadata": {},
     "output_type": "execute_result"
    },
    {
     "data": {
      "image/png": "[encoded data removed]",
      "text/plain": [
       "<Figure size 432x288 with 1 Axes>"
      ]
     },
     "metadata": {},
     "output_type": "display_data"
    }
   ],
   "source": [
    "plt.rc('font', family='simsun', size=12)\n",
    "second_p.plot.bar()"
   ]
  },
  {
   "cell_type": "markdown",
   "metadata": {},
   "source": [
    "# 项目单价"
   ]
  },
  {
   "cell_type": "code",
   "execution_count": 13,
   "metadata": {},
   "outputs": [],
   "source": [
    "money = new_count.groupby('项目单价').apply(get_s)"
   ]
  },
  {
   "cell_type": "code",
   "execution_count": 14,
   "metadata": {},
   "outputs": [
    {
     "data": {
      "text/plain": [
       "<matplotlib.axes._subplots.AxesSubplot at 0x7f063bace198>"
      ]
     },
     "execution_count": 14,
     "metadata": {},
     "output_type": "execute_result"
    },
    {
     "data": {
      "image/png": "[encoded data removed]",
      "text/plain": [
       "<Figure size 432x288 with 1 Axes>"
      ]
     },
     "metadata": {},
     "output_type": "display_data"
    }
   ],
   "source": [
    "money.plot.line(color='purple')"
   ]
  },
  {
   "cell_type": "markdown",
   "metadata": {},
   "source": [
    "# 会员星级"
   ]
  },
  {
   "cell_type": "code",
   "execution_count": 15,
   "metadata": {},
   "outputs": [],
   "source": [
    "star = new_count.groupby('会员星级').apply(get_s)"
   ]
  },
  {
   "cell_type": "code",
   "execution_count": 16,
   "metadata": {},
   "outputs": [
    {
     "data": {
      "text/plain": [
       "<matplotlib.axes._subplots.AxesSubplot at 0x7f063020e048>"
      ]
     },
     "execution_count": 16,
     "metadata": {},
     "output_type": "execute_result"
    },
    {
     "data": {
      "image/png": "[encoded data removed]",
      "text/plain": [
       "<Figure size 432x288 with 1 Axes>"
      ]
     },
     "metadata": {},
     "output_type": "display_data"
    }
   ],
   "source": [
    "star.plot.bar(color='green',width=0.4)"
   ]
  },
  {
   "cell_type": "code",
   "execution_count": 36,
   "metadata": {},
   "outputs": [],
   "source": [
    "pro = new_count[new_count['项目名称']=='黑龙江省感恩回馈套餐优惠营销（40、50、60元档位）【在线办理】（06——05）']"
   ]
  },
  {
   "cell_type": "code",
   "execution_count": 104,
   "metadata": {},
   "outputs": [],
   "source": [
    "member = new_count.groupby('会员工号').apply(get_m)"
   ]
  },
  {
   "cell_type": "markdown",
   "metadata": {},
   "source": [
    "# 从二级项目名称中抽取两类，套餐和通知类"
   ]
  },
  {
   "cell_type": "code",
   "execution_count": 17,
   "metadata": {},
   "outputs": [],
   "source": [
    "taocan = new_count[new_count['二级分类名称']=='套餐类']\n",
    "mem_taocan = taocan.groupby('会员工号').apply(get_m)"
   ]
  },
  {
   "cell_type": "code",
   "execution_count": 18,
   "metadata": {},
   "outputs": [],
   "source": [
    "tongzhi = new_count[new_count['二级分类名称']=='通知类']\n",
    "mem_tongzhi = tongzhi.groupby('会员工号').apply(get_m)"
   ]
  },
  {
   "cell_type": "code",
   "execution_count": 23,
   "metadata": {},
   "outputs": [
    {
     "data": {
      "text/html": [
       "<div>\n",
       "<style scoped>\n",
       "    .dataframe tbody tr th:only-of-type {\n",
       "        vertical-align: middle;\n",
       "    }\n",
       "\n",
       "    .dataframe tbody tr th {\n",
       "        vertical-align: top;\n",
       "    }\n",
       "\n",
       "    .dataframe thead th {\n",
       "        text-align: right;\n",
       "    }\n",
       "</style>\n",
       "<table border=\"1\" class=\"dataframe\">\n",
       "  <thead>\n",
       "    <tr style=\"text-align: right;\">\n",
       "      <th></th>\n",
       "      <th>办理率</th>\n",
       "    </tr>\n",
       "    <tr>\n",
       "      <th>星级</th>\n",
       "      <th></th>\n",
       "    </tr>\n",
       "  </thead>\n",
       "  <tbody>\n",
       "    <tr>\n",
       "      <th>1颗星</th>\n",
       "      <td>0.070577</td>\n",
       "    </tr>\n",
       "    <tr>\n",
       "      <th>2颗星</th>\n",
       "      <td>0.079807</td>\n",
       "    </tr>\n",
       "    <tr>\n",
       "      <th>3颗星</th>\n",
       "      <td>0.096785</td>\n",
       "    </tr>\n",
       "    <tr>\n",
       "      <th>4颗星</th>\n",
       "      <td>0.105470</td>\n",
       "    </tr>\n",
       "    <tr>\n",
       "      <th>5颗星</th>\n",
       "      <td>0.106926</td>\n",
       "    </tr>\n",
       "  </tbody>\n",
       "</table>\n",
       "</div>"
      ],
      "text/plain": [
       "          办理率\n",
       "星级           \n",
       "1颗星  0.070577\n",
       "2颗星  0.079807\n",
       "3颗星  0.096785\n",
       "4颗星  0.105470\n",
       "5颗星  0.106926"
      ]
     },
     "execution_count": 23,
     "metadata": {},
     "output_type": "execute_result"
    }
   ],
   "source": [
    "star_taocan = mem_taocan.groupby('星级').apply(get_s2)\n",
    "star_taocan"
   ]
  },
  {
   "cell_type": "code",
   "execution_count": 31,
   "metadata": {},
   "outputs": [
    {
     "data": {
      "text/plain": [
       "<matplotlib.axes._subplots.AxesSubplot at 0x7f0618239b70>"
      ]
     },
     "execution_count": 31,
     "metadata": {},
     "output_type": "execute_result"
    },
    {
     "data": {
      "image/png": "[encoded data removed]",
      "text/plain": [
       "<Figure size 432x288 with 1 Axes>"
      ]
     },
     "metadata": {},
     "output_type": "display_data"
    }
   ],
   "source": [
    "star_taocan.plot(kind='bar')"
   ]
  },
  {
   "cell_type": "code",
   "execution_count": 26,
   "metadata": {},
   "outputs": [
    {
     "data": {
      "text/html": [
       "<div>\n",
       "<style scoped>\n",
       "    .dataframe tbody tr th:only-of-type {\n",
       "        vertical-align: middle;\n",
       "    }\n",
       "\n",
       "    .dataframe tbody tr th {\n",
       "        vertical-align: top;\n",
       "    }\n",
       "\n",
       "    .dataframe thead th {\n",
       "        text-align: right;\n",
       "    }\n",
       "</style>\n",
       "<table border=\"1\" class=\"dataframe\">\n",
       "  <thead>\n",
       "    <tr style=\"text-align: right;\">\n",
       "      <th></th>\n",
       "      <th>办理率</th>\n",
       "    </tr>\n",
       "    <tr>\n",
       "      <th>星级</th>\n",
       "      <th></th>\n",
       "    </tr>\n",
       "  </thead>\n",
       "  <tbody>\n",
       "    <tr>\n",
       "      <th>1颗星</th>\n",
       "      <td>0.511033</td>\n",
       "    </tr>\n",
       "    <tr>\n",
       "      <th>2颗星</th>\n",
       "      <td>0.483392</td>\n",
       "    </tr>\n",
       "    <tr>\n",
       "      <th>3颗星</th>\n",
       "      <td>0.519516</td>\n",
       "    </tr>\n",
       "    <tr>\n",
       "      <th>4颗星</th>\n",
       "      <td>0.556357</td>\n",
       "    </tr>\n",
       "    <tr>\n",
       "      <th>5颗星</th>\n",
       "      <td>0.582721</td>\n",
       "    </tr>\n",
       "  </tbody>\n",
       "</table>\n",
       "</div>"
      ],
      "text/plain": [
       "          办理率\n",
       "星级           \n",
       "1颗星  0.511033\n",
       "2颗星  0.483392\n",
       "3颗星  0.519516\n",
       "4颗星  0.556357\n",
       "5颗星  0.582721"
      ]
     },
     "execution_count": 26,
     "metadata": {},
     "output_type": "execute_result"
    }
   ],
   "source": [
    "star_tongzhi = mem_tongzhi.groupby('星级').apply(get_s2)\n",
    "star_tongzhi"
   ]
  },
  {
   "cell_type": "code",
   "execution_count": 30,
   "metadata": {},
   "outputs": [
    {
     "data": {
      "text/plain": [
       "<matplotlib.axes._subplots.AxesSubplot at 0x7f0618250d30>"
      ]
     },
     "execution_count": 30,
     "metadata": {},
     "output_type": "execute_result"
    },
    {
     "data": {
      "image/png": "[encoded data removed]",
      "text/plain": [
       "<Figure size 432x288 with 1 Axes>"
      ]
     },
     "metadata": {},
     "output_type": "display_data"
    }
   ],
   "source": [
    "star_tongzhi.plot(kind='bar')"
   ]
  },
  {
   "cell_type": "code",
   "execution_count": 120,
   "metadata": {},
   "outputs": [],
   "source": [
    "high_taocan = mem_taocan[mem_taocan['办理率']>0.075]\n",
    "low_taocan = mem_taocan[mem_taocan['办理率']<=0.075]"
   ]
  },
  {
   "cell_type": "code",
   "execution_count": 127,
   "metadata": {},
   "outputs": [
    {
     "data": {
      "text/plain": [
       "((1222237.0, 65.0), (1421949.0, 595.0))"
      ]
     },
     "execution_count": 127,
     "metadata": {},
     "output_type": "execute_result"
    }
   ],
   "source": [
    "(high_taocan['总通话时长'].max(),high_taocan['总通话时长'].min()),(low_taocan['总通话时长'].max(),low_taocan['总通话时长'].min())"
   ]
  },
  {
   "cell_type": "code",
   "execution_count": 128,
   "metadata": {},
   "outputs": [
    {
     "data": {
      "text/plain": [
       "((724.0, 14.0), (215.0, 17.43))"
      ]
     },
     "execution_count": 128,
     "metadata": {},
     "output_type": "execute_result"
    }
   ],
   "source": [
    "(high_taocan['平均通话时长'].max(),high_taocan['平均通话时长'].min()),(low_taocan['平均通话时长'].max(),low_taocan['平均通话时长'].min())"
   ]
  },
  {
   "cell_type": "code",
   "execution_count": 119,
   "metadata": {},
   "outputs": [
    {
     "data": {
      "text/plain": [
       "<matplotlib.axes._subplots.AxesSubplot at 0x7f26aa37f080>"
      ]
     },
     "execution_count": 119,
     "metadata": {},
     "output_type": "execute_result"
    },
    {
     "data": {
      "image/png": "[encoded data removed]",
      "text/plain": [
       "<Figure size 432x288 with 1 Axes>"
      ]
     },
     "metadata": {},
     "output_type": "display_data"
    }
   ],
   "source": [
    "fanwei = list(range(0,1230000,100000))\n",
    "fenzu = pd.cut(high_taocan['总通话时长'],fanwei)\n",
    "pinshu = pd.value_counts(fenzu)\n",
    "pinshu.plot(kind='bar')"
   ]
  },
  {
   "cell_type": "code",
   "execution_count": 124,
   "metadata": {},
   "outputs": [
    {
     "data": {
      "text/plain": [
       "<matplotlib.axes._subplots.AxesSubplot at 0x7f26a25b17b8>"
      ]
     },
     "execution_count": 124,
     "metadata": {},
     "output_type": "execute_result"
    },
    {
     "data": {
      "image/png": "[encoded data removed]",
      "text/plain": [
       "<Figure size 432x288 with 1 Axes>"
      ]
     },
     "metadata": {},
     "output_type": "display_data"
    }
   ],
   "source": [
    "fanwei = list(range(0,100000,10000))\n",
    "fenzu = pd.cut(high_taocan['总通话时长'],fanwei)\n",
    "pinshu = pd.value_counts(fenzu)\n",
    "pinshu.plot(kind='bar')"
   ]
  },
  {
   "cell_type": "code",
   "execution_count": 122,
   "metadata": {},
   "outputs": [
    {
     "data": {
      "text/plain": [
       "<matplotlib.axes._subplots.AxesSubplot at 0x7f26aa3064a8>"
      ]
     },
     "execution_count": 122,
     "metadata": {},
     "output_type": "execute_result"
    },
    {
     "data": {
      "image/png": "[encoded data removed]",
      "text/plain": [
       "<Figure size 432x288 with 1 Axes>"
      ]
     },
     "metadata": {},
     "output_type": "display_data"
    }
   ],
   "source": [
    "fanwei = list(range(0,1430000,100000))\n",
    "fenzu = pd.cut(low_taocan['总通话时长'],fanwei)\n",
    "pinshu = pd.value_counts(fenzu)\n",
    "pinshu.plot(kind='bar')"
   ]
  },
  {
   "cell_type": "code",
   "execution_count": 125,
   "metadata": {},
   "outputs": [
    {
     "data": {
      "text/plain": [
       "<matplotlib.axes._subplots.AxesSubplot at 0x7f268f280668>"
      ]
     },
     "execution_count": 125,
     "metadata": {},
     "output_type": "execute_result"
    },
    {
     "data": {
      "image/png": "[encoded data removed]",
      "text/plain": [
       "<Figure size 432x288 with 1 Axes>"
      ]
     },
     "metadata": {},
     "output_type": "display_data"
    }
   ],
   "source": [
    "fanwei = list(range(0,100000,10000))\n",
    "fenzu = pd.cut(low_taocan['总通话时长'],fanwei)\n",
    "pinshu = pd.value_counts(fenzu)\n",
    "pinshu.plot(kind='bar')"
   ]
  },
  {
   "cell_type": "code",
   "execution_count": 108,
   "metadata": {},
   "outputs": [
    {
     "data": {
      "text/plain": [
       "<matplotlib.axes._subplots.AxesSubplot at 0x7f26ab4097f0>"
      ]
     },
     "execution_count": 108,
     "metadata": {},
     "output_type": "execute_result"
    },
    {
     "data": {
      "image/png": "[encoded data removed]",
      "text/plain": [
       "<Figure size 432x288 with 1 Axes>"
      ]
     },
     "metadata": {},
     "output_type": "display_data"
    }
   ],
   "source": [
    "fanwei = list(range(0,801,100))\n",
    "fenzu = pd.cut(high_taocan['平均通话时长'],fanwei)\n",
    "pinshu = pd.value_counts(fenzu)\n",
    "pinshu.plot(kind='bar')"
   ]
  },
  {
   "cell_type": "code",
   "execution_count": 130,
   "metadata": {},
   "outputs": [
    {
     "data": {
      "text/plain": [
       "<matplotlib.axes._subplots.AxesSubplot at 0x7f2698d1bf60>"
      ]
     },
     "execution_count": 130,
     "metadata": {},
     "output_type": "execute_result"
    },
    {
     "data": {
      "image/png": "[encoded data removed]",
      "text/plain": [
       "<Figure size 432x288 with 1 Axes>"
      ]
     },
     "metadata": {},
     "output_type": "display_data"
    }
   ],
   "source": [
    "fanwei = list(range(0,220,50))\n",
    "fenzu = pd.cut(high_taocan['平均通话时长'],fanwei)\n",
    "pinshu = pd.value_counts(fenzu)\n",
    "pinshu.plot(kind='bar')"
   ]
  },
  {
   "cell_type": "code",
   "execution_count": 46,
   "metadata": {},
   "outputs": [
    {
     "data": {
      "text/html": [
       "<div>\n",
       "<style scoped>\n",
       "    .dataframe tbody tr th:only-of-type {\n",
       "        vertical-align: middle;\n",
       "    }\n",
       "\n",
       "    .dataframe tbody tr th {\n",
       "        vertical-align: top;\n",
       "    }\n",
       "\n",
       "    .dataframe thead th {\n",
       "        text-align: right;\n",
       "    }\n",
       "</style>\n",
       "<table border=\"1\" class=\"dataframe\">\n",
       "  <thead>\n",
       "    <tr style=\"text-align: right;\">\n",
       "      <th></th>\n",
       "      <th>new_办理率</th>\n",
       "    </tr>\n",
       "    <tr>\n",
       "      <th>星级</th>\n",
       "      <th></th>\n",
       "    </tr>\n",
       "  </thead>\n",
       "  <tbody>\n",
       "    <tr>\n",
       "      <th>1颗星</th>\n",
       "      <td>0.511033</td>\n",
       "    </tr>\n",
       "    <tr>\n",
       "      <th>2颗星</th>\n",
       "      <td>0.483392</td>\n",
       "    </tr>\n",
       "    <tr>\n",
       "      <th>3颗星</th>\n",
       "      <td>0.519516</td>\n",
       "    </tr>\n",
       "    <tr>\n",
       "      <th>4颗星</th>\n",
       "      <td>0.556357</td>\n",
       "    </tr>\n",
       "    <tr>\n",
       "      <th>5颗星</th>\n",
       "      <td>0.582721</td>\n",
       "    </tr>\n",
       "  </tbody>\n",
       "</table>\n",
       "</div>"
      ],
      "text/plain": [
       "      new_办理率\n",
       "星级           \n",
       "1颗星  0.511033\n",
       "2颗星  0.483392\n",
       "3颗星  0.519516\n",
       "4颗星  0.556357\n",
       "5颗星  0.582721"
      ]
     },
     "execution_count": 46,
     "metadata": {},
     "output_type": "execute_result"
    }
   ],
   "source": [
    "mem_tongzhi.groupby('星级').apply(get_s2)"
   ]
  },
  {
   "cell_type": "code",
   "execution_count": 53,
   "metadata": {},
   "outputs": [
    {
     "data": {
      "text/plain": [
       "<pandas.core.groupby.DataFrameGroupBy object at 0x7f268564e828>"
      ]
     },
     "execution_count": 53,
     "metadata": {},
     "output_type": "execute_result"
    }
   ],
   "source": [
    "mem_taocan.groupby('星级')"
   ]
  },
  {
   "cell_type": "code",
   "execution_count": 49,
   "metadata": {},
   "outputs": [
    {
     "data": {
      "text/plain": [
       "<matplotlib.collections.PathCollection at 0x7f26857b8860>"
      ]
     },
     "execution_count": 49,
     "metadata": {},
     "output_type": "execute_result"
    },
    {
     "data": {
      "image/png": "[encoded data removed]",
      "text/plain": [
       "<Figure size 432x288 with 1 Axes>"
      ]
     },
     "metadata": {},
     "output_type": "display_data"
    }
   ],
   "source": [
    "plt.xlabel('通话')\n",
    "plt.ylabel('办理率')\n",
    "plt.scatter(mem_tongzhi['平均通话时长'],mem_tongzhi['办理率'])"
   ]
  },
  {
   "cell_type": "code",
   "execution_count": 29,
   "metadata": {},
   "outputs": [
    {
     "data": {
      "text/plain": [
       "<matplotlib.collections.PathCollection at 0x7f268ea985c0>"
      ]
     },
     "execution_count": 29,
     "metadata": {},
     "output_type": "execute_result"
    },
    {
     "data": {
      "image/png": "[encoded data removed]",
      "text/plain": [
       "<Figure size 432x288 with 1 Axes>"
      ]
     },
     "metadata": {},
     "output_type": "display_data"
    }
   ],
   "source": [
    "plt.xlabel('通话')\n",
    "plt.ylabel('办理率')\n",
    "plt.scatter(mem_tiyan['平均通话时长'],mem_tiyan['办理率'])"
   ]
  },
  {
   "cell_type": "code",
   "execution_count": 58,
   "metadata": {},
   "outputs": [
    {
     "data": {
      "text/plain": [
       "<matplotlib.collections.PathCollection at 0x7ffa475c9940>"
      ]
     },
     "execution_count": 58,
     "metadata": {},
     "output_type": "execute_result"
    },
    {
     "data": {
      "image/png": "[encoded data removed]",
      "text/plain": [
       "<Figure size 432x288 with 1 Axes>"
      ]
     },
     "metadata": {},
     "output_type": "display_data"
    }
   ],
   "source": [
    "p = pro.set_index('总接通量')\n",
    "plt.scatter(p.index,p['new_办理率'])"
   ]
  },
  {
   "cell_type": "code",
   "execution_count": 70,
   "metadata": {},
   "outputs": [
    {
     "data": {
      "text/plain": [
       "<matplotlib.collections.PathCollection at 0x7ffa3d6a17b8>"
      ]
     },
     "execution_count": 70,
     "metadata": {},
     "output_type": "execute_result"
    },
    {
     "data": {
      "image/png": "[encoded data removed]",
      "text/plain": [
       "<Figure size 432x288 with 1 Axes>"
      ]
     },
     "metadata": {},
     "output_type": "display_data"
    }
   ],
   "source": [
    "p = pro.set_index('平均通话时长(s)')\n",
    "plt.scatter(p.index,p['new_办理率'])"
   ]
  },
  {
   "cell_type": "code",
   "execution_count": 69,
   "metadata": {},
   "outputs": [
    {
     "data": {
      "text/plain": [
       "二级分类名称\n",
       "         414522\n",
       "体验类       26198\n",
       "增值业务类    116141\n",
       "套餐类      928594\n",
       "宽带类       38520\n",
       "承诺低消类     65340\n",
       "流量类      588421\n",
       "调研类      168627\n",
       "通知类      235098\n",
       "dtype: int64"
      ]
     },
     "execution_count": 69,
     "metadata": {},
     "output_type": "execute_result"
    }
   ],
   "source": [
    "count.groupby('二级分类名称').size()"
   ]
  },
  {
   "cell_type": "code",
   "execution_count": 131,
   "metadata": {},
   "outputs": [],
   "source": [
    "#out.to_excel('user_.xlsx')"
   ]
  },
  {
   "cell_type": "code",
   "execution_count": null,
   "metadata": {},
   "outputs": [],
   "source": []
  }
 ],
 "metadata": {
  "kernelspec": {
   "display_name": "Python 3",
   "language": "python",
   "name": "python3"
  },
  "language_info": {
   "codemirror_mode": {
    "name": "ipython",
    "version": 3
   },
   "file_extension": ".py",
   "mimetype": "text/x-python",
   "name": "python",
   "nbconvert_exporter": "python",
   "pygments_lexer": "ipython3",
   "version": "3.6.5"
  }
 },
 "nbformat": 4,
 "nbformat_minor": 2
}
